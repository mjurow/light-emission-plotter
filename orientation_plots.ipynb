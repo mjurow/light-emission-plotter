{
 "cells": [
  {
   "cell_type": "code",
   "execution_count": 124,
   "metadata": {
    "collapsed": true
   },
   "outputs": [],
   "source": [
    "import math\n",
    "import numpy as np\n",
    "import matplotlib as mpl\n",
    "import matplotlib.cm as cm\n",
    "import matplotlib.mlab as mlab\n",
    "import matplotlib.pyplot as plt"
   ]
  },
  {
   "cell_type": "code",
   "execution_count": 74,
   "metadata": {
    "collapsed": true
   },
   "outputs": [],
   "source": [
    "# define rotation matrices\n",
    "def rotX(epsilon):\n",
    "    xmatrix = xmatrix = [[1,0,0],[0, np.cos((np.radians(epsilon))), -1*np.sin((np.radians(epsilon)))], [0, np.sin((np.radians(epsilon))), np.cos((np.radians(epsilon)))]]\n",
    "    return xmatrix\n",
    "def rotY(phi):\n",
    "    ymatrix = [[np.cos((np.radians(phi))), 0, np.sin((np.radians(phi)))], [0,1,0], [-1*np.sin((np.radians(phi))), 0, np.cos((np.radians(phi)))]]\n",
    "    return ymatrix\n",
    "def getTDM2(delta):\n",
    "    #underscore for local variables (inside the function = local)\n",
    "    _d = np.radians(delta)\n",
    "    TDM1 = [-1*np.cos(_d), -1*np.sin(_d), 0]\n",
    "    TDM2 = [np.cos(_d), 0, -1*np.sin(_d)]\n",
    "    return [TDM1, TDM2]\n",
    "def getTDM3(delta):\n",
    "    #underscore for local variables (inside the function = local)\n",
    "    _d = np.radians(delta)\n",
    "    TDM1 = [-1*np.sin(_d), -1*np.cos(_d), 0]\n",
    "    TDM2 = [np.cos(_d), 0, -1*np.sin(_d)]\n",
    "    TDM3 = [0, np.sin(_d), np.cos(_d)]\n",
    "    return [TDM1, TDM2, TDM3]"
   ]
  },
  {
   "cell_type": "code",
   "execution_count": 90,
   "metadata": {
    "collapsed": true
   },
   "outputs": [],
   "source": [
    "def getTheta(v):\n",
    "    size = len(v)\n",
    "    theta = 0\n",
    "    for _v in v:\n",
    "        _theta = ((_v[2])**2)/(((_v[0])**2)+((_v[1])**2)+((_v[2])**2))\n",
    "        theta = theta + _theta\n",
    "    theta = theta/size\n",
    "    return theta"
   ]
  },
  {
   "cell_type": "code",
   "execution_count": 184,
   "metadata": {
    "collapsed": true
   },
   "outputs": [],
   "source": [
    "# populate a matrix of zeros and then we'll store our results in that matrix as we get them\n",
    "# otherwise we'd have to .append() every single number\n",
    "# this way we can just index into the matrix and replace results = np.zeros((len(delta), len(epsilon), len(phi)))\n",
    "def calcThetas(delta, numLigands):\n",
    "    epsilon = [i for i in range(0, 361)] # can also populate by writing this as i/2 for example \n",
    "    phi = [i for i in range(0,361)]\n",
    "    results = np.zeros(( len(epsilon), len(phi)))\n",
    "    d = delta\n",
    "    for idx_e, e in enumerate(epsilon):\n",
    "        for idx_p, p in enumerate(phi):\n",
    "            rot_X = rotX(e)\n",
    "            rot_Y = rotY(p)\n",
    "            rot = np.matmul(rot_X, rot_Y)\n",
    "            if numLigands == 3: #this lets us to heteroleptic and homoleptics in the same loop\n",
    "                TDMs = getTDM3(d)\n",
    "            elif numLigands == 2:\n",
    "                TDMs = getTDM2(d)\n",
    "            else:\n",
    "                print ('ligands must be 2 or 3')\n",
    "                pass\n",
    "            res_tdms = []\n",
    "            for tdm in TDMs:\n",
    "                res_tdms.append(np.matmul(tdm, rot))\n",
    "                    #print(tdm)\n",
    "                #temp = getTheta(res_tdms)\n",
    "                #print(\"hello world\")\n",
    "                #print(temp)\n",
    "            results[idx_e][idx_p] = getTheta(res_tdms) \n",
    "    return results, epsilon, phi"
   ]
  },
  {
   "cell_type": "code",
   "execution_count": 187,
   "metadata": {},
   "outputs": [
    {
     "name": "stdout",
     "output_type": "stream",
     "text": [
      "delta value in degrees?40\n"
     ]
    },
    {
     "data": {
      "text/plain": [
       "(361, 361)"
      ]
     },
     "execution_count": 187,
     "metadata": {},
     "output_type": "execute_result"
    }
   ],
   "source": [
    "# INPUT DELTA HERE, CHANGE THE 3 TO A 2 IF WANT 'ACAC MODEL'\n",
    "delta = float(input('delta value in degrees?'))\n",
    "temp, epsilon, phi = calcThetas(delta,3)\n",
    "np.shape(temp)"
   ]
  },
  {
   "cell_type": "code",
   "execution_count": 188,
   "metadata": {},
   "outputs": [
    {
     "name": "stdout",
     "output_type": "stream",
     "text": [
      "(361,)\n",
      "(361,)\n",
      "(361, 361)\n"
     ]
    },
    {
     "data": {
      "image/png": "[encoded data removed]",
      "text/plain": [
       "<matplotlib.figure.Figure at 0x11930f9b0>"
      ]
     },
     "metadata": {},
     "output_type": "display_data"
    }
   ],
   "source": [
    "print((np.shape(epsilon)))\n",
    "print(np.shape(phi))\n",
    "print(np.shape(temp))\n",
    "\n",
    "fig = plt.figure()\n",
    "\n",
    "# making the lines thinner\n",
    "v1 = np.linspace(0,1, 100, endpoint = True) # 100 steps between theta 0 and theta 1 \n",
    "v2 = np.linspace(0,1, 11, endpoint = True) # makes the color bar 1-10 by 1's\n",
    "ax = fig.add_subplot(111)\n",
    "plot = ax.contourf(phi, epsilon, temp, v1, cmap = plt.cm.jet)\n",
    "cbar = fig.colorbar(plot, ticks = v2) #adds the scale bar\n",
    "cbar.set_label('Theta')\n",
    "plt.xlabel('phi rotation')\n",
    "plt.ylabel('epsilon rotation')\n",
    "plt.title('delta = '+ str(delta))\n",
    "plt.show()"
   ]
  }
 ],
 "metadata": {
  "kernelspec": {
   "display_name": "Python 3",
   "language": "python",
   "name": "python3"
  },
  "language_info": {
   "codemirror_mode": {
    "name": "ipython",
    "version": 3
   },
   "file_extension": ".py",
   "mimetype": "text/x-python",
   "name": "python",
   "nbconvert_exporter": "python",
   "pygments_lexer": "ipython3",
   "version": "3.6.3"
  }
 },
 "nbformat": 4,
 "nbformat_minor": 2
}
